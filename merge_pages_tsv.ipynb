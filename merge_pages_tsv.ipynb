{
 "cells": [
  {
   "cell_type": "markdown",
   "id": "cd092ca8-3706-4637-ad97-ea82e91283b5",
   "metadata": {},
   "source": [
    "Code to merge the text contained in txt files (one per page) into a tsv file (one per volume) with, per line, the earliest year from which the text could date, the latest year, the file where the text comes from (volume_page), and the text of the page."
   ]
  },
  {
   "cell_type": "code",
   "execution_count": null,
   "id": "85a82018-a88f-4762-b78c-e18bf2d2b560",
   "metadata": {},
   "outputs": [],
   "source": [
    "import os\n",
    "\n",
    "# Define the folder names and corresponding start/end years\n",
    "folders = {\n",
    "    'NedInd_plakkaatboek_1': {'start_year': 1602, 'end_year': 1642},\n",
    "    'NedInd_plakkaatboek_10': {'start_year': 1776, 'end_year': 1787},\n",
    "    'NedInd_plakkaatboek_11': {'start_year': 1788, 'end_year': 1794},\n",
    "    'NedInd_plakkaatboek_12': {'start_year': 1795, 'end_year': 1799},\n",
    "    'NedInd_plakkaatboek_13': {'start_year': 1800, 'end_year': 1803},\n",
    "    'NedInd_plakkaatboek_14': {'start_year': 1804, 'end_year': 1808},\n",
    "    'NedInd_plakkaatboek_15': {'start_year': 1808, 'end_year': 1809},\n",
    "    'NedInd_plakkaatboek_16': {'start_year': 1810, 'end_year': 1811},\n",
    "    'NedInd_plakkaatboek_2': {'start_year': 1642, 'end_year': 1677},\n",
    "    'NedInd_plakkaatboek_3': {'start_year': 1678, 'end_year': 1709},\n",
    "    'NedInd_plakkaatboek_4': {'start_year': 1709, 'end_year': 1743},\n",
    "    'NedInd_plakkaatboek_5': {'start_year': 1743, 'end_year': 1750},\n",
    "    'NedInd_plakkaatboek_6': {'start_year': 1750, 'end_year': 1754},\n",
    "    'NedInd_plakkaatboek_7': {'start_year': 1755, 'end_year': 1764},\n",
    "    'NedInd_plakkaatboek_8': {'start_year': 1765, 'end_year': 1775},\n",
    "    'NedInd_plakkaatboek_9': {'start_year': 1642, 'end_year': 1766}\n",
    "}\n",
    "\n",
    "output_folder = 'TSV_files'  # Folder to store the output TSV files\n",
    "\n",
    "if not os.path.exists(output_folder):\n",
    "    os.makedirs(output_folder)\n",
    "\n",
    "base_folder = 'txt'  # Directory containing the 'NedInd_plakkaatboek_*' folders\n",
    "\n",
    "for folder_name, years in folders.items():\n",
    "    folder_path = os.path.join(base_folder, folder_name)\n",
    "    output_file = os.path.join(output_folder, folder_name + '.tsv')\n",
    "\n",
    "    with open(output_file, 'w', encoding='utf-8') as tsv_file:\n",
    "        tsv_file.write(\"start_year\\tend_year\\tFile\\tText\\n\")  # Header line\n",
    "\n",
    "        for filename in os.listdir(folder_path):\n",
    "            if filename.endswith(\".txt\"):\n",
    "                file_path = os.path.join(folder_path, filename)\n",
    "\n",
    "                with open(file_path, 'r', encoding='utf-8') as txt_file:\n",
    "                    text = txt_file.read().replace('\\n', ' ').replace('\\t', ' ')\n",
    "\n",
    "                line = f\"{years['start_year']}\\t{years['end_year']}\\t{filename}\\t{text}\\n\"\n",
    "                tsv_file.write(line)\n"
   ]
  },
  {
   "cell_type": "markdown",
   "id": "cdfb3052-0210-4e63-9e47-aea26452a07f",
   "metadata": {},
   "source": [
    "Same as above, now retaining the line breaks in the individual files ('\\n')"
   ]
  },
  {
   "cell_type": "code",
   "execution_count": null,
   "id": "7ab1be65-792b-40af-b54e-bafea80894ca",
   "metadata": {},
   "outputs": [],
   "source": [
    "import os\n",
    "\n",
    "# Define the folder names and corresponding start/end years\n",
    "folders = {\n",
    "    'NedInd_plakkaatboek_1': {'start_year': 1602, 'end_year': 1642},\n",
    "    'NedInd_plakkaatboek_10': {'start_year': 1776, 'end_year': 1787},\n",
    "    'NedInd_plakkaatboek_11': {'start_year': 1788, 'end_year': 1794},\n",
    "    'NedInd_plakkaatboek_12': {'start_year': 1795, 'end_year': 1799},\n",
    "    'NedInd_plakkaatboek_13': {'start_year': 1800, 'end_year': 1803},\n",
    "    'NedInd_plakkaatboek_14': {'start_year': 1804, 'end_year': 1808},\n",
    "    'NedInd_plakkaatboek_15': {'start_year': 1808, 'end_year': 1809},\n",
    "    'NedInd_plakkaatboek_16': {'start_year': 1810, 'end_year': 1811},\n",
    "    'NedInd_plakkaatboek_2': {'start_year': 1642, 'end_year': 1677},\n",
    "    'NedInd_plakkaatboek_3': {'start_year': 1678, 'end_year': 1709},\n",
    "    'NedInd_plakkaatboek_4': {'start_year': 1709, 'end_year': 1743},\n",
    "    'NedInd_plakkaatboek_5': {'start_year': 1743, 'end_year': 1750},\n",
    "    'NedInd_plakkaatboek_6': {'start_year': 1750, 'end_year': 1754},\n",
    "    'NedInd_plakkaatboek_7': {'start_year': 1755, 'end_year': 1764},\n",
    "    'NedInd_plakkaatboek_8': {'start_year': 1765, 'end_year': 1775},\n",
    "    'NedInd_plakkaatboek_9': {'start_year': 1642, 'end_year': 1766}\n",
    "}\n",
    "\n",
    "output_folder = 'TSV_files_linebreaks'  # Folder to store the output TSV files\n",
    "\n",
    "if not os.path.exists(output_folder):\n",
    "    os.makedirs(output_folder)\n",
    "\n",
    "base_folder = 'txt'  # Directory containing the 'NedInd_plakkaatboek_*' folders\n",
    "\n",
    "for folder_name, years in folders.items():\n",
    "    folder_path = os.path.join(base_folder, folder_name)\n",
    "    output_file = os.path.join(output_folder, folder_name + '.tsv')\n",
    "\n",
    "    with open(output_file, 'w', encoding='utf-8') as tsv_file:\n",
    "        tsv_file.write(\"start_year\\tend_year\\tFile\\tText\\n\")  # Header line\n",
    "\n",
    "        for filename in os.listdir(folder_path):\n",
    "            if filename.endswith(\".txt\"):\n",
    "                file_path = os.path.join(folder_path, filename)\n",
    "\n",
    "                with open(file_path, 'r', encoding='utf-8') as txt_file:\n",
    "                    text = txt_file.read().replace('\\n', ' \\\\n ').replace('\\t', ' ')\n",
    "\n",
    "                line = f\"{years['start_year']}\\t{years['end_year']}\\t{filename}\\t{text}\\n\"\n",
    "                tsv_file.write(line)\n"
   ]
  },
  {
   "cell_type": "code",
   "execution_count": null,
   "id": "c72ee423-760f-4a03-8810-26ac9aeed830",
   "metadata": {},
   "outputs": [],
   "source": []
  }
 ],
 "metadata": {
  "kernelspec": {
   "display_name": "Python 3 (ipykernel)",
   "language": "python",
   "name": "python3"
  },
  "language_info": {
   "codemirror_mode": {
    "name": "ipython",
    "version": 3
   },
   "file_extension": ".py",
   "mimetype": "text/x-python",
   "name": "python",
   "nbconvert_exporter": "python",
   "pygments_lexer": "ipython3",
   "version": "3.10.9"
  }
 },
 "nbformat": 4,
 "nbformat_minor": 5
}
